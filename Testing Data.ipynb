{
 "cells": [
  {
   "cell_type": "code",
   "execution_count": 6,
   "metadata": {},
   "outputs": [],
   "source": [
    "import pandas as pd\n",
    "import numpy as np"
   ]
  },
  {
   "cell_type": "code",
   "execution_count": 9,
   "metadata": {},
   "outputs": [],
   "source": [
    "covid = pd.read_csv('Missing_COVID.csv')"
   ]
  },
  {
   "cell_type": "code",
   "execution_count": 17,
   "metadata": {},
   "outputs": [
    {
     "data": {
      "text/plain": [
       "cdc_report_dt                          0\n",
       "pos_spec_dt                      2331742\n",
       "onset_dt                         1772698\n",
       "current_status                         0\n",
       "sex                                   18\n",
       "age_group                             94\n",
       "Race and ethnicity (combined)          6\n",
       "hosp_yn                                0\n",
       "icu_yn                                 0\n",
       "death_yn                               0\n",
       "medcond_yn                             0\n",
       "dtype: int64"
      ]
     },
     "execution_count": 17,
     "metadata": {},
     "output_type": "execute_result"
    }
   ],
   "source": [
    "valid_entries = covid.count()\n",
    "total_rows = len(covid.index)\n",
    "missing_data = total_rows - valid_entries\n",
    "missing_data"
   ]
  },
  {
   "cell_type": "code",
   "execution_count": 18,
   "metadata": {},
   "outputs": [
    {
     "data": {
      "text/plain": [
       "cdc_report_dt                     0.000000\n",
       "pos_spec_dt                      63.668353\n",
       "onset_dt                         48.403623\n",
       "current_status                    0.000000\n",
       "sex                               0.000491\n",
       "age_group                         0.002567\n",
       "Race and ethnicity (combined)     0.000164\n",
       "hosp_yn                           0.000000\n",
       "icu_yn                            0.000000\n",
       "death_yn                          0.000000\n",
       "medcond_yn                        0.000000\n",
       "dtype: float64"
      ]
     },
     "execution_count": 18,
     "metadata": {},
     "output_type": "execute_result"
    }
   ],
   "source": [
    "missing_percentage = missing_data/total_rows * 100\n",
    "missing_percentage"
   ]
  },
  {
   "cell_type": "code",
   "execution_count": 19,
   "metadata": {},
   "outputs": [
    {
     "data": {
      "text/plain": [
       "0    9.090909\n",
       "1    9.090909\n",
       "2    0.000000\n",
       "3    9.090909\n",
       "4    0.000000\n",
       "dtype: float64"
      ]
     },
     "execution_count": 19,
     "metadata": {},
     "output_type": "execute_result"
    }
   ],
   "source": [
    "missing_data = np.sum(covid.isnull(), axis=1)\n",
    "num_cols = len(covid.columns)\n",
    "missing_percentage = missing_data / num_cols * 100\n",
    "\n",
    "missing_percentage.head()"
   ]
  },
  {
   "cell_type": "code",
   "execution_count": 20,
   "metadata": {},
   "outputs": [
    {
     "data": {
      "text/html": [
       "<div>\n",
       "<style scoped>\n",
       "    .dataframe tbody tr th:only-of-type {\n",
       "        vertical-align: middle;\n",
       "    }\n",
       "\n",
       "    .dataframe tbody tr th {\n",
       "        vertical-align: top;\n",
       "    }\n",
       "\n",
       "    .dataframe thead th {\n",
       "        text-align: right;\n",
       "    }\n",
       "</style>\n",
       "<table border=\"1\" class=\"dataframe\">\n",
       "  <thead>\n",
       "    <tr style=\"text-align: right;\">\n",
       "      <th></th>\n",
       "      <th>cdc_report_dt</th>\n",
       "      <th>pos_spec_dt</th>\n",
       "      <th>onset_dt</th>\n",
       "      <th>current_status</th>\n",
       "      <th>sex</th>\n",
       "      <th>age_group</th>\n",
       "      <th>Race and ethnicity (combined)</th>\n",
       "      <th>hosp_yn</th>\n",
       "      <th>icu_yn</th>\n",
       "      <th>death_yn</th>\n",
       "      <th>medcond_yn</th>\n",
       "    </tr>\n",
       "  </thead>\n",
       "  <tbody>\n",
       "    <tr>\n",
       "      <th>count</th>\n",
       "      <td>3662325</td>\n",
       "      <td>1330583</td>\n",
       "      <td>1889627</td>\n",
       "      <td>3662325</td>\n",
       "      <td>3662307</td>\n",
       "      <td>3662231</td>\n",
       "      <td>3662319</td>\n",
       "      <td>3662325</td>\n",
       "      <td>3662325</td>\n",
       "      <td>3662325</td>\n",
       "      <td>3662325</td>\n",
       "    </tr>\n",
       "    <tr>\n",
       "      <th>unique</th>\n",
       "      <td>225</td>\n",
       "      <td>205</td>\n",
       "      <td>243</td>\n",
       "      <td>2</td>\n",
       "      <td>5</td>\n",
       "      <td>10</td>\n",
       "      <td>8</td>\n",
       "      <td>4</td>\n",
       "      <td>4</td>\n",
       "      <td>4</td>\n",
       "      <td>4</td>\n",
       "    </tr>\n",
       "    <tr>\n",
       "      <th>top</th>\n",
       "      <td>2020/06/24</td>\n",
       "      <td>2020/04/06</td>\n",
       "      <td>2020/07/06</td>\n",
       "      <td>Laboratory-confirmed case</td>\n",
       "      <td>Female</td>\n",
       "      <td>20 - 29 Years</td>\n",
       "      <td>Unknown</td>\n",
       "      <td>No</td>\n",
       "      <td>Missing</td>\n",
       "      <td>No</td>\n",
       "      <td>Missing</td>\n",
       "    </tr>\n",
       "    <tr>\n",
       "      <th>freq</th>\n",
       "      <td>155560</td>\n",
       "      <td>17854</td>\n",
       "      <td>22242</td>\n",
       "      <td>3521190</td>\n",
       "      <td>1850866</td>\n",
       "      <td>684226</td>\n",
       "      <td>1604109</td>\n",
       "      <td>1525755</td>\n",
       "      <td>2312984</td>\n",
       "      <td>1644402</td>\n",
       "      <td>2350907</td>\n",
       "    </tr>\n",
       "  </tbody>\n",
       "</table>\n",
       "</div>"
      ],
      "text/plain": [
       "       cdc_report_dt pos_spec_dt    onset_dt             current_status  \\\n",
       "count        3662325     1330583     1889627                    3662325   \n",
       "unique           225         205         243                          2   \n",
       "top       2020/06/24  2020/04/06  2020/07/06  Laboratory-confirmed case   \n",
       "freq          155560       17854       22242                    3521190   \n",
       "\n",
       "            sex      age_group Race and ethnicity (combined)  hosp_yn  \\\n",
       "count   3662307        3662231                       3662319  3662325   \n",
       "unique        5             10                             8        4   \n",
       "top      Female  20 - 29 Years                       Unknown       No   \n",
       "freq    1850866         684226                       1604109  1525755   \n",
       "\n",
       "         icu_yn death_yn medcond_yn  \n",
       "count   3662325  3662325    3662325  \n",
       "unique        4        4          4  \n",
       "top     Missing       No    Missing  \n",
       "freq    2312984  1644402    2350907  "
      ]
     },
     "execution_count": 20,
     "metadata": {},
     "output_type": "execute_result"
    }
   ],
   "source": [
    "covid.describe()"
   ]
  }
 ],
 "metadata": {
  "kernelspec": {
   "display_name": "Python 3",
   "language": "python",
   "name": "python3"
  },
  "language_info": {
   "codemirror_mode": {
    "name": "ipython",
    "version": 3
   },
   "file_extension": ".py",
   "mimetype": "text/x-python",
   "name": "python",
   "nbconvert_exporter": "python",
   "pygments_lexer": "ipython3",
   "version": "3.7.6"
  }
 },
 "nbformat": 4,
 "nbformat_minor": 4
}
